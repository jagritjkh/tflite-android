{
  "nbformat": 4,
  "nbformat_minor": 0,
  "metadata": {
    "colab": {
      "name": "Add metadata to ESRGAN.ipynb",
      "provenance": [],
      "collapsed_sections": [],
      "toc_visible": true,
      "machine_shape": "hm",
      "include_colab_link": true
    },
    "kernelspec": {
      "name": "python3",
      "display_name": "Python 3"
    },
    "accelerator": "GPU"
  },
  "cells": [
    {
      "cell_type": "markdown",
      "metadata": {
        "id": "view-in-github",
        "colab_type": "text"
      },
      "source": [
        "<a href=\"https://colab.research.google.com/github/margaretmz/esrgan-e2e-tflite-tutorial/blob/master/ml/add%20metadata/Add%20metadata%20to%20ESRGAN.ipynb\" target=\"_parent\"><img src=\"https://colab.research.google.com/assets/colab-badge.svg\" alt=\"Open In Colab\"/></a>"
      ]
    },
    {
      "cell_type": "markdown",
      "metadata": {
        "id": "gKfbp8hjNX_t",
        "colab_type": "text"
      },
      "source": [
        "\n",
        "#Add metadata to ESRGAN\n",
        "Written by Margaret Maynard-Reid. \n",
        "Created on July 21, 2020 | Updated on August 3, 2020 (by Sayak Paul)\n",
        "\n",
        "This Colab Notebook adds metadata to a tflite model which enables CodeGen in Android Studio with ML Model Binding."
      ]
    },
    {
      "cell_type": "code",
      "metadata": {
        "id": "Xn71TnUirD7D",
        "colab_type": "code",
        "colab": {
          "base_uri": "https://localhost:8080/",
          "height": 292
        },
        "outputId": "fdf59493-108e-4f61-bd79-896572c511c5"
      },
      "source": [
        "!pip install tflite-support"
      ],
      "execution_count": 1,
      "outputs": [
        {
          "output_type": "stream",
          "text": [
            "Collecting tflite-support\n",
            "\u001b[?25l  Downloading https://files.pythonhosted.org/packages/29/97/7af9b18583d9bb01cdfcd0ab446062ef97720ebf941e33f7b156861ed179/tflite-support-0.1.0a1.tar.gz (390kB)\n",
            "\r\u001b[K     |▉                               | 10kB 12.2MB/s eta 0:00:01\r\u001b[K     |█▊                              | 20kB 2.2MB/s eta 0:00:01\r\u001b[K     |██▌                             | 30kB 2.8MB/s eta 0:00:01\r\u001b[K     |███▍                            | 40kB 3.1MB/s eta 0:00:01\r\u001b[K     |████▏                           | 51kB 2.6MB/s eta 0:00:01\r\u001b[K     |█████                           | 61kB 2.9MB/s eta 0:00:01\r\u001b[K     |█████▉                          | 71kB 3.1MB/s eta 0:00:01\r\u001b[K     |██████▊                         | 81kB 3.5MB/s eta 0:00:01\r\u001b[K     |███████▋                        | 92kB 3.7MB/s eta 0:00:01\r\u001b[K     |████████▍                       | 102kB 3.5MB/s eta 0:00:01\r\u001b[K     |█████████▎                      | 112kB 3.5MB/s eta 0:00:01\r\u001b[K     |██████████                      | 122kB 3.5MB/s eta 0:00:01\r\u001b[K     |███████████                     | 133kB 3.5MB/s eta 0:00:01\r\u001b[K     |███████████▊                    | 143kB 3.5MB/s eta 0:00:01\r\u001b[K     |████████████▋                   | 153kB 3.5MB/s eta 0:00:01\r\u001b[K     |█████████████▍                  | 163kB 3.5MB/s eta 0:00:01\r\u001b[K     |██████████████▎                 | 174kB 3.5MB/s eta 0:00:01\r\u001b[K     |███████████████▏                | 184kB 3.5MB/s eta 0:00:01\r\u001b[K     |████████████████                | 194kB 3.5MB/s eta 0:00:01\r\u001b[K     |████████████████▉               | 204kB 3.5MB/s eta 0:00:01\r\u001b[K     |█████████████████▋              | 215kB 3.5MB/s eta 0:00:01\r\u001b[K     |██████████████████▌             | 225kB 3.5MB/s eta 0:00:01\r\u001b[K     |███████████████████▎            | 235kB 3.5MB/s eta 0:00:01\r\u001b[K     |████████████████████▏           | 245kB 3.5MB/s eta 0:00:01\r\u001b[K     |█████████████████████           | 256kB 3.5MB/s eta 0:00:01\r\u001b[K     |█████████████████████▉          | 266kB 3.5MB/s eta 0:00:01\r\u001b[K     |██████████████████████▊         | 276kB 3.5MB/s eta 0:00:01\r\u001b[K     |███████████████████████▌        | 286kB 3.5MB/s eta 0:00:01\r\u001b[K     |████████████████████████▍       | 296kB 3.5MB/s eta 0:00:01\r\u001b[K     |█████████████████████████▏      | 307kB 3.5MB/s eta 0:00:01\r\u001b[K     |██████████████████████████      | 317kB 3.5MB/s eta 0:00:01\r\u001b[K     |██████████████████████████▉     | 327kB 3.5MB/s eta 0:00:01\r\u001b[K     |███████████████████████████▊    | 337kB 3.5MB/s eta 0:00:01\r\u001b[K     |████████████████████████████▌   | 348kB 3.5MB/s eta 0:00:01\r\u001b[K     |█████████████████████████████▍  | 358kB 3.5MB/s eta 0:00:01\r\u001b[K     |██████████████████████████████▎ | 368kB 3.5MB/s eta 0:00:01\r\u001b[K     |███████████████████████████████ | 378kB 3.5MB/s eta 0:00:01\r\u001b[K     |████████████████████████████████| 389kB 3.5MB/s eta 0:00:01\r\u001b[K     |████████████████████████████████| 399kB 3.5MB/s \n",
            "\u001b[?25hCollecting pybind11>=2.4\n",
            "  Using cached https://files.pythonhosted.org/packages/89/e3/d576f6f02bc75bacbc3d42494e8f1d063c95617d86648dba243c2cb3963e/pybind11-2.5.0-py2.py3-none-any.whl\n",
            "Requirement already satisfied: absl-py>=0.7.0 in /usr/local/lib/python3.6/dist-packages (from tflite-support) (0.9.0)\n",
            "Requirement already satisfied: numpy in /usr/local/lib/python3.6/dist-packages (from tflite-support) (1.18.5)\n",
            "Requirement already satisfied: six in /usr/local/lib/python3.6/dist-packages (from absl-py>=0.7.0->tflite-support) (1.15.0)\n",
            "Building wheels for collected packages: tflite-support\n",
            "  Building wheel for tflite-support (setup.py) ... \u001b[?25l\u001b[?25hdone\n",
            "  Created wheel for tflite-support: filename=tflite_support-0.1.0a1-cp36-cp36m-linux_x86_64.whl size=3943040 sha256=a0c3428a085790349442e8ae774df6edc1b4cca5cfa216bf24782e25f439b6a9\n",
            "  Stored in directory: /root/.cache/pip/wheels/5f/65/21/4fa08c598c3e79a1a5260646eb37204d4859fc3da0bfeb8011\n",
            "Successfully built tflite-support\n",
            "Installing collected packages: pybind11, tflite-support\n",
            "Successfully installed pybind11-2.5.0 tflite-support-0.1.0a1\n"
          ],
          "name": "stdout"
        }
      ]
    },
    {
      "cell_type": "code",
      "metadata": {
        "id": "fwBU4CHXpNwT",
        "colab_type": "code",
        "colab": {}
      },
      "source": [
        "import os\n",
        "import tensorflow as tf\n",
        "from absl import flags"
      ],
      "execution_count": 2,
      "outputs": []
    },
    {
      "cell_type": "code",
      "metadata": {
        "id": "6x4MEcCvJgrT",
        "colab_type": "code",
        "colab": {}
      },
      "source": [
        "from tflite_support import flatbuffers\n",
        "from tflite_support import metadata as _metadata\n",
        "from tflite_support import metadata_schema_py_generated as _metadata_fb"
      ],
      "execution_count": 3,
      "outputs": []
    },
    {
      "cell_type": "code",
      "metadata": {
        "id": "qV3uOnrBN5X0",
        "colab_type": "code",
        "colab": {}
      },
      "source": [
        "# Create 2 directories, and manually upload the original .tflite to the /model_without_metadata folder\n",
        "!mkdir model_without_metadata\n",
        "!mkdir model_with_metadata"
      ],
      "execution_count": 4,
      "outputs": []
    },
    {
      "cell_type": "code",
      "metadata": {
        "id": "xRtNzghgSfDC",
        "colab_type": "code",
        "colab": {}
      },
      "source": [
        "!wget https://github.com/margaretmz/esrgan-e2e-tflite-tutorial/raw/master/ml/add%20metadata/model_without_metadata/esrgan_dr.tflite\n",
        "!wget https://github.com/margaretmz/esrgan-e2e-tflite-tutorial/raw/master/ml/add%20metadata/model_without_metadata/esrgan_fp16.tflite\n",
        "!wget https://github.com/margaretmz/esrgan-e2e-tflite-tutorial/raw/master/ml/add%20metadata/model_without_metadata/esrgan_int8.tflite\n",
        "\n",
        "!mv *.tflite model_without_metadata/"
      ],
      "execution_count": null,
      "outputs": []
    },
    {
      "cell_type": "code",
      "metadata": {
        "id": "PwPskqPj2MVS",
        "colab_type": "code",
        "colab": {}
      },
      "source": [
        "quantization = \"int8\" #@param [\"dr\", \"fp16\", \"int8\"]\n",
        "# The original .tflite file without metadata\n",
        "MODEL_FILE = f\"/content/model_without_metadata/esrgan_{quantization}.tflite\"\n",
        "# This is where we will export a new .tflite model file with metadata, and a .json file with metadata info\n",
        "EXPORT_DIR = \"model_with_metadata\""
      ],
      "execution_count": 14,
      "outputs": []
    },
    {
      "cell_type": "code",
      "metadata": {
        "id": "YqcWmNMNUS1D",
        "colab_type": "code",
        "colab": {}
      },
      "source": [
        "class MetadataPopulatorForGANModel(object):\n",
        "  \"\"\"Populates the metadata for the tflite model.\"\"\"\n",
        "\n",
        "  def __init__(self, model_file):\n",
        "    self.model_file = model_file\n",
        "    self.metadata_buf = None\n",
        "\n",
        "  def populate(self):\n",
        "    \"\"\"Creates metadata and thesn populates it for a style transfer model.\"\"\"\n",
        "    self._create_metadata()\n",
        "    self._populate_metadata()\n",
        "  \n",
        "  def _create_metadata(self):\n",
        "    \"\"\"Creates the metadata for the tflite model.\"\"\"\n",
        "\n",
        "    # Creates model info.\n",
        "    model_meta = _metadata_fb.ModelMetadataT()\n",
        "    model_meta\n",
        "    model_meta.name = \"ESRGAN\" \n",
        "    model_meta.description = (\"Enhanced super-res GAN for improving image quality. Converted by TFLiteConverter from TF 2.2.0\")\n",
        "    model_meta.version = \"v-2020-07-30\"\n",
        "    model_meta.author = \"TensorFlow\"\n",
        "    model_meta.license = (\"Apache License. Version 2.0 \"\n",
        "                          \"http://www.apache.org/licenses/LICENSE-2.0.\")\n",
        "\n",
        "    # Creates info for the input, original image.\n",
        "    input_image_meta = _metadata_fb.TensorMetadataT()\n",
        "    input_image_meta.name = \"original_image\"\n",
        "    input_image_meta.description = (\n",
        "        \"The expected image is 128 x 128, with three channels \"\n",
        "        \"(red, blue, and green) per pixel. Each value in the tensor is between\"\n",
        "        \" 0.0 and 255.0.\")\n",
        "    input_image_meta.content = _metadata_fb.ContentT()\n",
        "    input_image_meta.content.contentProperties = (\n",
        "        _metadata_fb.ImagePropertiesT())\n",
        "    input_image_meta.content.contentProperties.colorSpace = (\n",
        "        _metadata_fb.ColorSpaceType.RGB)\n",
        "    input_image_meta.content.contentPropertiesType = (\n",
        "        _metadata_fb.ContentProperties.ImageProperties)\n",
        "    input_image_normalization = _metadata_fb.ProcessUnitT()\n",
        "    input_image_normalization.optionsType = (\n",
        "        _metadata_fb.ProcessUnitOptions.NormalizationOptions)\n",
        "    input_image_normalization.options = _metadata_fb.NormalizationOptionsT()\n",
        "    input_image_normalization.options.mean = [0.0]\n",
        "    input_image_normalization.options.std = [1.0]\n",
        "    input_image_meta.processUnits = [input_image_normalization]\n",
        "    input_image_stats = _metadata_fb.StatsT()\n",
        "    input_image_stats.max = [255]\n",
        "    input_image_stats.min = [0]\n",
        "    input_image_meta.stats = input_image_stats\n",
        "\n",
        "    # Creates output info, anime image\n",
        "    output_image_meta = _metadata_fb.TensorMetadataT()\n",
        "    output_image_meta.name = \"enhanced_image\"\n",
        "    output_image_meta.description = \"Image enhanced.\"\n",
        "    output_image_meta.content = _metadata_fb.ContentT()\n",
        "    output_image_meta.content.contentProperties = _metadata_fb.ImagePropertiesT()\n",
        "    output_image_meta.content.contentProperties.colorSpace = (\n",
        "        _metadata_fb.ColorSpaceType.RGB)\n",
        "    output_image_meta.content.contentPropertiesType = (\n",
        "        _metadata_fb.ContentProperties.ImageProperties)\n",
        "    output_image_normalization = _metadata_fb.ProcessUnitT()\n",
        "    output_image_normalization.optionsType = (\n",
        "        _metadata_fb.ProcessUnitOptions.NormalizationOptions)\n",
        "    output_image_normalization.options = _metadata_fb.NormalizationOptionsT()\n",
        "    output_image_normalization.options.mean = [0.0]\n",
        "    output_image_normalization.options.std = [1.0] \n",
        "    output_image_meta.processUnits = [output_image_normalization]\n",
        "    output_image_stats = _metadata_fb.StatsT()\n",
        "    output_image_stats.max = [255.0]\n",
        "    output_image_stats.min = [0.0]\n",
        "    output_image_meta.stats = output_image_stats\n",
        "\n",
        "    # Creates subgraph info.\n",
        "    subgraph = _metadata_fb.SubGraphMetadataT()\n",
        "    subgraph.inputTensorMetadata = [input_image_meta] \n",
        "    subgraph.outputTensorMetadata = [output_image_meta] \n",
        "    model_meta.subgraphMetadata = [subgraph]\n",
        "\n",
        "    b = flatbuffers.Builder(0)\n",
        "    b.Finish(\n",
        "        model_meta.Pack(b),\n",
        "        _metadata.MetadataPopulator.METADATA_FILE_IDENTIFIER)\n",
        "    self.metadata_buf = b.Output()\n",
        "\n",
        "  def _populate_metadata(self):\n",
        "    \"\"\"Populates metadata to the model file.\"\"\"\n",
        "    populator = _metadata.MetadataPopulator.with_model_file(self.model_file)\n",
        "    populator.load_metadata_buffer(self.metadata_buf)\n",
        "    populator.populate()"
      ],
      "execution_count": 15,
      "outputs": []
    },
    {
      "cell_type": "code",
      "metadata": {
        "id": "CxwBoinwoAjC",
        "colab_type": "code",
        "colab": {}
      },
      "source": [
        "def populate_metadata(model_file):\n",
        "  \"\"\"Populates the metadata using the populator specified.\n",
        "  Args:\n",
        "      model_file: valid path to the model file.\n",
        "      model_type: a type defined in StyleTransferModelType .\n",
        "  \"\"\"\n",
        "\n",
        "  # Populates metadata for the model.\n",
        "  model_file_basename = os.path.basename(model_file)\n",
        "  export_path = os.path.join(EXPORT_DIR, model_file_basename)\n",
        "  tf.io.gfile.copy(model_file, export_path, overwrite=True)\n",
        "\n",
        "  populator = MetadataPopulatorForGANModel(export_path) \n",
        "  populator.populate()\n",
        "\n",
        "  # Displays the metadata that was just populated into the tflite model.\n",
        "  displayer = _metadata.MetadataDisplayer.with_model_file(export_path)\n",
        "  export_json_file = os.path.join(\n",
        "      EXPORT_DIR,\n",
        "      os.path.splitext(model_file_basename)[0] + \".json\")\n",
        "  json_file = displayer.get_metadata_json()\n",
        "  with open(export_json_file, \"w\") as f:\n",
        "    f.write(json_file)\n",
        "  print(\"Finished populating metadata and associated file to the model:\")\n",
        "  print(export_path)\n",
        "  print(\"The metadata json file has been saved to:\")\n",
        "  print(os.path.join(EXPORT_DIR,\n",
        "                   os.path.splitext(model_file_basename)[0] + \".json\"))"
      ],
      "execution_count": 16,
      "outputs": []
    },
    {
      "cell_type": "code",
      "metadata": {
        "id": "jGb6149poE4s",
        "colab_type": "code",
        "colab": {
          "base_uri": "https://localhost:8080/",
          "height": 85
        },
        "outputId": "e05ad669-6ed5-41f2-81f0-53f31cc3d3f7"
      },
      "source": [
        "populate_metadata(MODEL_FILE)"
      ],
      "execution_count": 17,
      "outputs": [
        {
          "output_type": "stream",
          "text": [
            "Finished populating metadata and associated file to the model:\n",
            "model_with_metadata/esrgan_int8.tflite\n",
            "The metadata json file has been saved to:\n",
            "model_with_metadata/esrgan_int8.json\n"
          ],
          "name": "stdout"
        }
      ]
    }
  ]
}